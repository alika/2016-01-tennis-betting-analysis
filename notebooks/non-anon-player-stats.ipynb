{
 "cells": [
  {
   "cell_type": "markdown",
   "metadata": {},
   "source": [
    "# Importing The data"
   ]
  },
  {
   "cell_type": "code",
   "execution_count": 2,
   "metadata": {
    "collapsed": false
   },
   "outputs": [],
   "source": [
    "import glob\n",
    "import pandas as pd\n",
    "\n",
    "atp_data_dir = r'../data/atp'"
   ]
  },
  {
   "cell_type": "code",
   "execution_count": 3,
   "metadata": {
    "collapsed": false
   },
   "outputs": [
    {
     "name": "stdout",
     "output_type": "stream",
     "text": [
      "There are 45,684 non-anonymous player rows\n"
     ]
    }
   ],
   "source": [
    "# player data\n",
    "na_player_data = pd.read_csv(atp_data_dir + \"/atp_players.csv\",\n",
    "                                  header=None,\n",
    "                                  names=[\"id\", \"first_name\", \"last_name\", \n",
    "                                         \"hand\", \"birthdate\", \"country\"])\n",
    "\n",
    "print(\"There are {0:,} non-anonymous player rows\".format(len(na_player_data.index)))"
   ]
  },
  {
   "cell_type": "code",
   "execution_count": 4,
   "metadata": {
    "collapsed": false
   },
   "outputs": [
    {
     "name": "stdout",
     "output_type": "stream",
     "text": [
      "There are 50,445 non-anonymous match rows ranging from years 2000-2015\n"
     ]
    }
   ],
   "source": [
    "# match data (2000-2015)\n",
    "match_files = glob.glob(atp_data_dir + \"/atp_matches_20[0-1][0-9].csv\")\n",
    "na_match_data = pd.DataFrame()\n",
    "match_file_list = []\n",
    "for file_ in match_files:\n",
    "    df = pd.read_csv(file_,index_col=None, header=0)\n",
    "    match_file_list.append(df)\n",
    "na_match_data = pd.concat(match_file_list)\n",
    "\n",
    "print(\"There are {0:,} non-anonymous match rows ranging from years 2000-2015\"\n",
    "      .format(len(na_match_data.index)))"
   ]
  },
  {
   "cell_type": "code",
   "execution_count": 13,
   "metadata": {
    "collapsed": false,
    "scrolled": true
   },
   "outputs": [
    {
     "name": "stdout",
     "output_type": "stream",
     "text": [
      "(2016-M020, Brisbane, Hard, 32, A, 20160104, 300, 105683, 4.0, nan, Milos Raonic, R, 196.0, CAN, 25.0212183436, 14, 2170, 103819, 1.0, nan)     3.0\n",
      "(2016-M020, Brisbane, Hard, 32, A, 20160104, 299, 103819, 1.0, nan, Roger Federer, R, 185.0, SUI, 34.4065708419, 3, 8265, 106233, 8.0, nan)    20.0\n",
      "(2016-M020, Brisbane, Hard, 32, A, 20160104, 298, 105683, 4.0, nan, Milos Raonic, R, 196.0, CAN, 25.0212183436, 14, 2170, 106071, 7.0, nan)    18.0\n",
      "(2016-M020, Brisbane, Hard, 32, A, 20160104, 297, 103819, 1.0, nan, Roger Federer, R, 185.0, SUI, 34.4065708419, 3, 8265, 105777, nan, nan)    28.0\n",
      "Name: tourney_date, dtype: object\n"
     ]
    },
    {
     "data": {
      "text/plain": [
       "count       4\n",
       "unique      4\n",
       "top       3.0\n",
       "freq        1\n",
       "Name: tourney_date, dtype: object"
      ]
     },
     "execution_count": 13,
     "metadata": {},
     "output_type": "execute_result"
    }
   ],
   "source": []
  }
 ],
 "metadata": {
  "kernelspec": {
   "display_name": "Python 2",
   "language": "python",
   "name": "python2"
  },
  "language_info": {
   "codemirror_mode": {
    "name": "ipython",
    "version": 2
   },
   "file_extension": ".py",
   "mimetype": "text/x-python",
   "name": "python",
   "nbconvert_exporter": "python",
   "pygments_lexer": "ipython2",
   "version": "2.7.10"
  }
 },
 "nbformat": 4,
 "nbformat_minor": 0
}
