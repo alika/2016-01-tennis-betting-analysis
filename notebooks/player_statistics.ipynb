{
 "cells": [
  {
   "cell_type": "markdown",
   "metadata": {},
   "source": [
    "## Importing The Data"
   ]
  },
  {
   "cell_type": "code",
   "execution_count": 1,
   "metadata": {
    "collapsed": true
   },
   "outputs": [],
   "source": [
    "import pandas as pd\n",
    "import random"
   ]
  },
  {
   "cell_type": "code",
   "execution_count": 12,
   "metadata": {
    "collapsed": false
   },
   "outputs": [],
   "source": [
    "betting_data = pd.read_csv(\"../data/anonymous_betting_data.csv\")"
   ]
  },
  {
   "cell_type": "code",
   "execution_count": 13,
   "metadata": {
    "collapsed": false
   },
   "outputs": [
    {
     "name": "stdout",
     "output_type": "stream",
     "text": [
      "There are 129,271 rows in the base dataset\n"
     ]
    }
   ],
   "source": [
    "print(\"There are {0:,} rows in the base dataset\"\\\n",
    "      .format(len(betting_data.index)))"
   ]
  },
  {
   "cell_type": "markdown",
   "metadata": {},
   "source": [
    "## Match Selection"
   ]
  },
  {
   "cell_type": "markdown",
   "metadata": {},
   "source": [
    "Remove duplicate matches and remove \"cancelled\" matches."
   ]
  },
  {
   "cell_type": "code",
   "execution_count": 18,
   "metadata": {
    "collapsed": false
   },
   "outputs": [],
   "source": [
    "all_matches = betting_data[~betting_data[\"is_cancelled_or_walkover\"]]\\\n",
    "    .drop_duplicates(subset=\"match_uid\")\\\n",
    "    .copy()"
   ]
  },
  {
   "cell_type": "code",
   "execution_count": 19,
   "metadata": {
    "collapsed": false
   },
   "outputs": [
    {
     "name": "stdout",
     "output_type": "stream",
     "text": [
      "There are 26,006 distinct matches of interest the range from 2009 to 2015\n"
     ]
    }
   ],
   "source": [
    "print(\"There are {0:,} distinct matches of interest the range from {1:.0f} to {2:.0f}\"\\\n",
    "      .format(len(all_matches.index), all_matches[\"year\"].min(), all_matches[\"year\"].max()))"
   ]
  },
  {
   "cell_type": "markdown",
   "metadata": {},
   "source": [
    "## Player Statistics"
   ]
  },
  {
   "cell_type": "markdown",
   "metadata": {},
   "source": [
    "In this section we calculate various player statistics."
   ]
  },
  {
   "cell_type": "code",
   "execution_count": 154,
   "metadata": {
    "collapsed": false
   },
   "outputs": [
    {
     "name": "stdout",
     "output_type": "stream",
     "text": [
      "There is a total of 1,523 players\n"
     ]
    }
   ],
   "source": [
    "winners = all_matches\\\n",
    "    .drop_duplicates(subset=\"winner\")\\\n",
    "    .ix[:,\"winner\"].tolist()\n",
    "    \n",
    "losers = all_matches\\\n",
    "    .drop_duplicates(subset=\"loser\")\\\n",
    "    .ix[:,\"loser\"].tolist()\n",
    "    \n",
    "players = winners + list(set(losers) - set(winners))\n",
    "    \n",
    "print(\"There is a total of {0:,} players\".format(len(players)))"
   ]
  },
  {
   "cell_type": "code",
   "execution_count": 162,
   "metadata": {
    "collapsed": false
   },
   "outputs": [],
   "source": [
    "class Player(object):\n",
    "    def __init__(self, player_name):\n",
    "        self.name = player_name\n",
    "        self.matches = self.get_matches()\n",
    "        self.wins = len(self.matches[self.matches[\"winner\"] == self.name])\n",
    "        self.losses = len(self.matches[self.matches[\"loser\"] == self.name])\n",
    "        self.win_loss_by_year = self.get_win_loss_by_year()\n",
    "        self.win_loss_ratio = 0 if self.losses <= 0 else float(self.wins) / float(self.losses)\n",
    "\n",
    "    def get_matches(self):\n",
    "        player_matches = all_matches.loc[\n",
    "            (all_matches[\"winner\"] == self.name) |\n",
    "            (all_matches[\"loser\"] == self.name)]\\\n",
    "            .copy()\n",
    "        return player_matches\n",
    "    \n",
    "    def get_win_loss_by_year(self):\n",
    "        wins_by_year = self.matches.groupby(\"year\")\\\n",
    "            .apply(lambda x: x[x[\"winner\"] == self.name][\"winner\"].count())\n",
    "        losses_by_year = self.matches.groupby(\"year\")\\\n",
    "            .apply(lambda x: x[x[\"loser\"] == self.name][\"loser\"].count())\n",
    "        win_loss_by_year = pd.concat([wins_by_year, losses_by_year], axis=1, keys=[\"wins\", \"losses\"])\n",
    "        return win_loss_by_year\n",
    "    \n",
    "    def __str__(self):\n",
    "        return \"Player {0} has an overall win/loss ratio of {1}/{2} ({3:.2f}) \\n{4}\"\\\n",
    "             .format(self.name, self.wins, self.losses, self.win_loss_ratio, self.win_loss_by_year)\n",
    "\n",
    "def print_player(player_name):\n",
    "    player = Player(player_name)\n",
    "    if player.wins > 40:\n",
    "        print player"
   ]
  },
  {
   "cell_type": "markdown",
   "metadata": {},
   "source": [
    "Import suspicious players"
   ]
  },
  {
   "cell_type": "code",
   "execution_count": 163,
   "metadata": {
    "collapsed": false
   },
   "outputs": [
    {
     "name": "stdout",
     "output_type": "stream",
     "text": [
      "Player 0ffe23c8b80916f6b2c23a52e08018374d68d12f49b261ccb36fecd52927cc0a has an overall win/loss ratio of 71/70 (1.01) \n",
      "      wins  losses\n",
      "year              \n",
      "2009    10      10\n",
      "2010    28      24\n",
      "2011    28      24\n",
      "2012     5      12\n",
      "Player b5c0e84eda074671d6a3d7edf59e65242d080e26d35fa158b11f74c9891355e4 has an overall win/loss ratio of 158/117 (1.35) \n",
      "      wins  losses\n",
      "year              \n",
      "2009    54      17\n",
      "2010    28      20\n",
      "2011    25      25\n",
      "2012    23      23\n",
      "2013    22      22\n",
      "2014     6      10\n",
      "Player 2ed14b47b1c58532b757d76404dcf1a114b712e50193f0b0a5a05f52e3067134 has an overall win/loss ratio of 252/133 (1.89) \n",
      "      wins  losses\n",
      "year              \n",
      "2009    21      15\n",
      "2010    38      22\n",
      "2011    34      19\n",
      "2012    45      23\n",
      "2013    49      23\n",
      "2014    31      19\n",
      "2015    34      12\n",
      "Player 6840fadf79442f1fa10569f210305a669242159fd31abc2eaa94d158a7e3b301 has an overall win/loss ratio of 42/63 (0.67) \n",
      "      wins  losses\n",
      "year              \n",
      "2009     9      12\n",
      "2010     3      11\n",
      "2011     6      13\n",
      "2012     1       6\n",
      "2013     4       2\n",
      "2014    13       8\n",
      "2015     6      11\n",
      "Player 91066973c924f6a41cef067cb3ebdb8f6d6c6a0cdd85933bb84965c25d377c18 has an overall win/loss ratio of 50/33 (1.52) \n",
      "      wins  losses\n",
      "year              \n",
      "2009    31      16\n",
      "2010    13       8\n",
      "2011     3       5\n",
      "2012     3       4\n",
      "Player 5b94678362f659bd7058eba695e963a2039567f3830d502665808303c27771c4 has an overall win/loss ratio of 95/96 (0.99) \n",
      "      wins  losses\n",
      "year              \n",
      "2009    17      15\n",
      "2010    28      21\n",
      "2011    17      21\n",
      "2012    13      15\n",
      "2013    13      14\n",
      "2014     7      10\n",
      "Player dd83d749567ad7c7f4e89656b08d4791acefd60724cc848697903d2aa13731c7 has an overall win/loss ratio of 141/130 (1.08) \n",
      "      wins  losses\n",
      "year              \n",
      "2009    24      16\n",
      "2010    36      23\n",
      "2011    22      25\n",
      "2012     7      17\n",
      "2013    22      19\n",
      "2014    15      18\n",
      "2015    15      12\n",
      "Player d5e122c7e9bd24d1295d3bbcf29455c21676e09ff8f69255dd387c0240544d20 has an overall win/loss ratio of 79/107 (0.74) \n",
      "      wins  losses\n",
      "year              \n",
      "2009    11      23\n",
      "2010    22      25\n",
      "2011    23      28\n",
      "2012     8      18\n",
      "2013     2       5\n",
      "2014    13       7\n",
      "2015     0       1\n",
      "Player 614c2049880f015352fb695961ec2763194439ce9fbb11ece98e2264eb1942df has an overall win/loss ratio of 104/97 (1.07) \n",
      "      wins  losses\n",
      "year              \n",
      "2009    14      15\n",
      "2010     6       9\n",
      "2011    21      17\n",
      "2012     7      13\n",
      "2013    42      24\n",
      "2014    14      19\n",
      "Player c9d4889baca9908d2ca2f8515d02f164fcd84642bee5e73cbf3544b26a8315a6 has an overall win/loss ratio of 46/90 (0.51) \n",
      "      wins  losses\n",
      "year              \n",
      "2009     1       4\n",
      "2010     3       8\n",
      "2011    15      20\n",
      "2012    11      21\n",
      "2013    10      15\n",
      "2014     2      17\n",
      "2015     4       5\n"
     ]
    },
    {
     "data": {
      "text/plain": [
       "[None,\n",
       " None,\n",
       " None,\n",
       " None,\n",
       " None,\n",
       " None,\n",
       " None,\n",
       " None,\n",
       " None,\n",
       " None,\n",
       " None,\n",
       " None,\n",
       " None,\n",
       " None,\n",
       " None,\n",
       " None,\n",
       " None,\n",
       " None,\n",
       " None,\n",
       " None,\n",
       " None,\n",
       " None,\n",
       " None,\n",
       " None,\n",
       " None,\n",
       " None,\n",
       " None,\n",
       " None]"
      ]
     },
     "execution_count": 163,
     "metadata": {},
     "output_type": "execute_result"
    }
   ],
   "source": [
    "report_players = [\n",
    "     'f5cecec5a7714e86cf761e7cda278f144d82eac78d15c7f67aecf9ba186e7830',\n",
    "     'e39d12f03f441a3e8eb207fb12eced70fdf2c06cbaf27e123d457d1780447baf',\n",
    "     'fa4319726a465ed7c72f125332082b1e1afdef2d8164c4dfff237d78aed2e39e',\n",
    "     '0ffe23c8b80916f6b2c23a52e08018374d68d12f49b261ccb36fecd52927cc0a',\n",
    "     'b5c0e84eda074671d6a3d7edf59e65242d080e26d35fa158b11f74c9891355e4',\n",
    "     '11411268e0ea9e1527a49193485d117e35b0645a17f4b0b40da262300e8d4430',\n",
    "     '02a755e7afd8581feadcfd369d8a62fc7fec476ce4e0c55de5fc03c0da0f3c81',\n",
    "     '47f8d9fb7d7156217c15e7aea9127cf8a7ffcabdd3e97fc16c533dc807430308',\n",
    "     '2ed14b47b1c58532b757d76404dcf1a114b712e50193f0b0a5a05f52e3067134',\n",
    "     '6840fadf79442f1fa10569f210305a669242159fd31abc2eaa94d158a7e3b301',\n",
    "     '91066973c924f6a41cef067cb3ebdb8f6d6c6a0cdd85933bb84965c25d377c18',\n",
    "     'd489880f3981ace1f6c03616fe169a0b5e513ccd5da3547ce971dde26b3bde43',\n",
    "     '30b4b70b6ed9adb822559be9d7f74747e73af99a33c0649d87dd21cadedb9681',\n",
    "     '5b94678362f659bd7058eba695e963a2039567f3830d502665808303c27771c4',\n",
    "     'c06ec5c640acfd2a94350a468185475f73e1d614f497540cf4e05f2a905a8fac',\n",
    "     '7a46553d6c2a135edb7d6a4e3408be7eb5f41953f442fb108a7b6e587ecee038',\n",
    "     'dd83d749567ad7c7f4e89656b08d4791acefd60724cc848697903d2aa13731c7',\n",
    "     'aa2bd77955c425c8da69a09584beaccf24a2dc15b903beecc7e9069d4c520c21',\n",
    "     '55c14ebb1ec4efa5c6e3dd272c747896d2647c883ca6861ebc6f83d382075c69',\n",
    "     '694668c73710b80adb51764ae06a1413fb93e7d10e0d329a63c83a14b77c3fd2',\n",
    "     'dcb744cbd79602f5ad05227acabb3be17729b2b5bda60595f5b62c0f0145843f',\n",
    "     '51c4b3f11032d72af378075926b7ed628360fd3ec605a9298a00e076ef797f4a',\n",
    "     'd5e122c7e9bd24d1295d3bbcf29455c21676e09ff8f69255dd387c0240544d20',\n",
    "     '614c2049880f015352fb695961ec2763194439ce9fbb11ece98e2264eb1942df',\n",
    "     '061a49265f4f3b6970b8943181aa93431bbfcc6cc96f5a6b23590c2785fddc5a',\n",
    "     '73f6d26367e4793ebd7dfe1e1ef17cb64455e41c9e30cc78fb7ef7277268b546',\n",
    "     'cd4a092bde2eba04a8adcb2f241c638b560ee56b9c537f78bd4808937f1b73e2',\n",
    "     'c9d4889baca9908d2ca2f8515d02f164fcd84642bee5e73cbf3544b26a8315a6'\n",
    "]\n",
    "\n",
    "map(print_player, report_players)\n"
   ]
  },
  {
   "cell_type": "code",
   "execution_count": null,
   "metadata": {
    "collapsed": true
   },
   "outputs": [],
   "source": []
  }
 ],
 "metadata": {
  "celltoolbar": "Raw Cell Format",
  "kernelspec": {
   "display_name": "Python 2",
   "language": "python",
   "name": "python2"
  },
  "language_info": {
   "codemirror_mode": {
    "name": "ipython",
    "version": 2
   },
   "file_extension": ".py",
   "mimetype": "text/x-python",
   "name": "python",
   "nbconvert_exporter": "python",
   "pygments_lexer": "ipython2",
   "version": "2.7.10"
  }
 },
 "nbformat": 4,
 "nbformat_minor": 0
}
